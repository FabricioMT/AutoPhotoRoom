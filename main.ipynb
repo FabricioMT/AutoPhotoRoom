{
 "cells": [
  {
   "cell_type": "markdown",
   "id": "283bc187",
   "metadata": {},
   "source": [
    "import time\n",
    "import pyautogui\n",
    "time.sleep(5)\n",
    "pyautogui.position()"
   ]
  },
  {
   "cell_type": "code",
   "execution_count": null,
   "id": "701b7d68",
   "metadata": {},
   "outputs": [],
   "source": [
    "import os, shutil\n",
    "import pathlib as pl\n",
    "\n",
    "srcPath = r\"D:/fotos/\"\n",
    "destPath = r\"D:/moved/\"\n",
    "files = os.listdir(srcPath)\n",
    "\n",
    "n = 0\n",
    "count = f\"{str(n)}.jpg\"\n",
    "\n",
    "for file in files:\n",
    "    filename = pl.PurePath(file[:0]+count).name\n",
    "\n",
    "    if str(count) == filename:\n",
    "        m = shutil.move(srcPath + filename, destPath + filename[9:])\n",
    "    n = n+1\n",
    "    count = f\"{str(n)}.jpg\"\n",
    "    "
   ]
  },
  {
   "cell_type": "code",
   "execution_count": 144,
   "id": "c61a566b",
   "metadata": {},
   "outputs": [
    {
     "name": "stderr",
     "output_type": "stream",
     "text": [
      "C:\\Users\\fabri\\AppData\\Local\\Temp\\ipykernel_17744\\2692355693.py:13: DeprecationWarning: firefox_profile has been deprecated, please use an Options object\n",
      "  fp = webdriver.FirefoxProfile('C:\\\\Users\\\\fabri\\\\AppData\\\\Roaming\\\\Mozilla\\\\Firefox\\\\Profiles\\\\1lq8wops.Selenium')\n",
      "C:\\Users\\fabri\\AppData\\Local\\Temp\\ipykernel_17744\\2692355693.py:16: DeprecationWarning: firefox_profile has been deprecated, please pass in an Options object\n",
      "  driver = webdriver.Firefox(options=options,firefox_profile=fp)\n"
     ]
    },
    {
     "ename": "KeyboardInterrupt",
     "evalue": "",
     "output_type": "error",
     "traceback": [
      "\u001b[1;31m---------------------------------------------------------------------------\u001b[0m",
      "\u001b[1;31mKeyboardInterrupt\u001b[0m                         Traceback (most recent call last)",
      "\u001b[1;32mc:\\Users\\fabri\\OneDrive\\Área de Trabalho\\AutoPhotoRoom\\main.ipynb Célula: 4\u001b[0m in \u001b[0;36m<cell line: 27>\u001b[1;34m()\u001b[0m\n\u001b[0;32m     <a href='vscode-notebook-cell:/c%3A/Users/fabri/OneDrive/%C3%81rea%20de%20Trabalho/AutoPhotoRoom/main.ipynb#W2sZmlsZQ%3D%3D?line=58'>59</a>\u001b[0m     time\u001b[39m.\u001b[39msleep(\u001b[39m1\u001b[39m)\n\u001b[0;32m     <a href='vscode-notebook-cell:/c%3A/Users/fabri/OneDrive/%C3%81rea%20de%20Trabalho/AutoPhotoRoom/main.ipynb#W2sZmlsZQ%3D%3D?line=59'>60</a>\u001b[0m     driver\u001b[39m.\u001b[39mfind_element(By\u001b[39m.\u001b[39mCSS_SELECTOR,\u001b[39m'\u001b[39m\u001b[39mbutton.inline-flex\u001b[39m\u001b[39m'\u001b[39m)\u001b[39m.\u001b[39mclick()\n\u001b[1;32m---> <a href='vscode-notebook-cell:/c%3A/Users/fabri/OneDrive/%C3%81rea%20de%20Trabalho/AutoPhotoRoom/main.ipynb#W2sZmlsZQ%3D%3D?line=60'>61</a>\u001b[0m     time\u001b[39m.\u001b[39;49msleep(\u001b[39m2\u001b[39;49m)\n\u001b[0;32m     <a href='vscode-notebook-cell:/c%3A/Users/fabri/OneDrive/%C3%81rea%20de%20Trabalho/AutoPhotoRoom/main.ipynb#W2sZmlsZQ%3D%3D?line=64'>65</a>\u001b[0m driver\u001b[39m.\u001b[39mquit()\n",
      "\u001b[1;31mKeyboardInterrupt\u001b[0m: "
     ]
    }
   ],
   "source": [
    "from turtle import goto\n",
    "from selenium import webdriver\n",
    "from selenium.webdriver.common.keys import Keys\n",
    "from selenium.webdriver.support.ui import WebDriverWait\n",
    "from selenium.webdriver.firefox.options import Options as FirefoxOptions\n",
    "from selenium.webdriver.common.by import By\n",
    "from selenium.webdriver.support import expected_conditions as EC\n",
    "import time\n",
    "import pyautogui as pag\n",
    "import os\n",
    "import shutil\n",
    "\n",
    "fp = webdriver.FirefoxProfile('C:\\\\Users\\\\fabri\\\\AppData\\\\Roaming\\\\Mozilla\\\\Firefox\\\\Profiles\\\\1lq8wops.Selenium')\n",
    "options = FirefoxOptions()\n",
    "#options.add_argument(\"--headless\")\n",
    "driver = webdriver.Firefox(options=options,firefox_profile=fp)\n",
    "#driver = webdriver.Firefox(executable_path = r\"C:\\Users\\fabri\\OneDrive\\Área de Trabalho\\Selenuim\\geckodriver.exe\")\n",
    "driver.get('https://www.photoroom.com/remover-fundo-de-imagem/')\n",
    "\n",
    "folder = r\"D:/fotos\"\n",
    "dest = r\"D:/moved\"\n",
    "stop = False\n",
    "files = os.listdir(folder)\n",
    "n = 0\n",
    "count = f\"{str(n)}.jpg\"\n",
    "\n",
    "for file in files:\n",
    "    filename = pl.PurePath(file[:0]+count).name\n",
    "\n",
    "    driver.find_element(By.CSS_SELECTOR,'button.px-8').click()\n",
    "    time.sleep(2)\n",
    "\n",
    "    if stop == False:\n",
    "        pag.moveTo(456,58)\n",
    "        pag.click()\n",
    "        pag.write(folder)\n",
    "        pag.press('enter')\n",
    "        stop = True\n",
    "\n",
    "    time.sleep(1)\n",
    "    pag.moveTo(263,180)\n",
    "    pag.click()\n",
    "    pag.press('enter')\n",
    "\n",
    "    if str(count) == filename:\n",
    "        m = shutil.move(srcPath + filename, destPath + filename[9:])\n",
    "    n = n+1\n",
    "    count = f\"{str(n)}.jpg\"\n",
    "\n",
    "    blackButton = WebDriverWait(driver, 5).until(EC.visibility_of_element_located((By.CSS_SELECTOR, 'button.h-9:nth-child(3)')))\n",
    "    blackButton.click()\n",
    "    time.sleep(1)\n",
    "    download = WebDriverWait(driver, 5).until(EC.visibility_of_element_located((By.CSS_SELECTOR, 'button.relative:nth-child(1)')))\n",
    "    download.click() #download\n",
    "    time.sleep(1)\n",
    "    pag.click()\n",
    "    time.sleep(1)\n",
    "    driver.find_element(By.CSS_SELECTOR,'button.inline-flex').click()\n",
    "    time.sleep(1)\n",
    "\n",
    "driver.quit()\n",
    "\n"
   ]
  }
 ],
 "metadata": {
  "kernelspec": {
   "display_name": "Python 3.9.12 ('base')",
   "language": "python",
   "name": "python3"
  },
  "language_info": {
   "codemirror_mode": {
    "name": "ipython",
    "version": 3
   },
   "file_extension": ".py",
   "mimetype": "text/x-python",
   "name": "python",
   "nbconvert_exporter": "python",
   "pygments_lexer": "ipython3",
   "version": "3.9.12"
  },
  "vscode": {
   "interpreter": {
    "hash": "e6d67bf77025d748772b843bcacfdcb5a8247f14740a6d44b4b3ceee657fb5e4"
   }
  }
 },
 "nbformat": 4,
 "nbformat_minor": 5
}
