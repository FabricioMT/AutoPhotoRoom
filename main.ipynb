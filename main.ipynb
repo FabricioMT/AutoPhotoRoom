{
 "cells": [
  {
   "cell_type": "markdown",
   "id": "283bc187",
   "metadata": {},
   "source": [
    "import time\n",
    "import pyautogui\n",
    "time.sleep(5)\n",
    "pyautogui.position()"
   ]
  },
  {
   "cell_type": "code",
   "execution_count": null,
   "id": "701b7d68",
   "metadata": {},
   "outputs": [],
   "source": [
    "import os, shutil\n",
    "import pathlib as pl\n",
    "\n",
    "srcPath = r\"D:\\Data_set_Inits\\green_data\\backup\\removed\\removed-greenv2\"\n",
    "destPath = r\"D:/data-raw/moved/\"\n",
    "\n",
    "moved_sujo = r\"D:\\Data_set_Inits\\green_data\\backup\\moved_sujo\"\n",
    "destPath = r\"D:\\Data_set_Inits\\green_data\\backup\\removed\\removed-greenv2\\auxiliar\"\n",
    "\n",
    "files = os.listdir(srcPath)\n",
    "moved_sujos = os.listdir(moved_sujo)\n",
    "\n",
    "n = 0\n",
    "n_removed = []\n",
    "\n",
    "# coleta nome dos removidos de falha do Photo Room\n",
    "[n_removed.append(pl.PurePath(file).name.split('-PhotoRoom')[0]) for file in files]\n",
    "n_removed.pop()\n",
    "#print(n_removed)\n",
    "#count = [f\"{str(i)}-PhotoRoom.png\" for i in n_removed]\n",
    "count = f\"{str(n)}-PhotoRoom.png\"\n",
    "\n",
    "for file in moved_sujos:\n",
    "    filename = pl.PurePath(file[:0]+count).name\n",
    "    print(lenfile[:]])\n",
    "    if str(count) == filename:\n",
    "        #print(filename)\n",
    "        pass\n",
    "    n = n+1\n",
    "    count = f\"{str(n)}-PhotoRoom.png\"\n",
    "\n",
    "for file in files:\n",
    "    filename = pl.PurePath(file[:0]+count).name\n",
    "    #print(filename)\n",
    "    if str(count) == filename:\n",
    "        #m = shutil.move(srcPath + filename, destPath + filename[9:])\n",
    "        pass\n",
    "    n = n+1\n",
    "    count = f\"{str(n)}-PhotoRoom.png\"\n"
   ]
  },
  {
   "cell_type": "markdown",
   "id": "6ab8ccc2",
   "metadata": {},
   "source": [
    "Dividir diretorio"
   ]
  },
  {
   "cell_type": "code",
   "execution_count": null,
   "id": "fa131191",
   "metadata": {},
   "outputs": [],
   "source": [
    "import os, shutil\n",
    "import pathlib as pl\n",
    "\n",
    "moved_sujo = r\"D:\\Data_set_Inits\\green_data\\backup\\moved_sujo\"\n",
    "destPath_sujo_aux = r\"D:\\Data_set_Inits\\green_data\\backup\\removed\\removed-greenv2\\auxiliar\"\n",
    "\n",
    "srcPath = r\"D:\\Data_set_Inits\\green_data\\backup\\removed\\removed-greenv2\"\n",
    "#destPath = r\"D:/data-raw/moved/\"\n",
    "\n",
    "removidos = os.listdir(srcPath)\n",
    "moved_sujos = os.listdir(moved_sujo)\n",
    "\n",
    "verify = 0\n",
    "Nverify = 0\n",
    "rev = []\n",
    "n_removed = []\n",
    "num = 0\n",
    "find_files = [pl.PurePath(find).name.split('-PhotoRoom')[0] for find in removidos]\n",
    "find_files.pop()\n",
    "find_files.sort(reverse=True)\n",
    "\n",
    "#print(find_files)\n",
    "for file in moved_sujos:\n",
    "    filename = pl.PurePath(file).name.split('.')[0]\n",
    "    for file in find_files:\n",
    "        if filename == file:\n",
    "            #print(moved_sujo + os.sep + file + '.JPG')\n",
    "            m = shutil.move(moved_sujo + os.sep + file + '.JPG', destPath_sujo_aux + os.sep + file + '.JPG')\n",
    "            print(m)"
   ]
  },
  {
   "cell_type": "code",
   "execution_count": 160,
   "id": "da6f73fa",
   "metadata": {},
   "outputs": [
    {
     "ename": "FileNotFoundError",
     "evalue": "[WinError 3] O sistema não pode encontrar o caminho especificado: './oldPath/'",
     "output_type": "error",
     "traceback": [
      "\u001b[1;31m---------------------------------------------------------------------------\u001b[0m",
      "\u001b[1;31mFileNotFoundError\u001b[0m                         Traceback (most recent call last)",
      "\u001b[1;32mc:\\Users\\fabri\\OneDrive\\Área de Trabalho\\AutoPhotoRoom\\main.ipynb Célula: 4\u001b[0m in \u001b[0;36m<cell line: 5>\u001b[1;34m()\u001b[0m\n\u001b[0;32m      <a href='vscode-notebook-cell:/c%3A/Users/fabri/OneDrive/%C3%81rea%20de%20Trabalho/AutoPhotoRoom/main.ipynb#W6sZmlsZQ%3D%3D?line=2'>3</a>\u001b[0m srcPath \u001b[39m=\u001b[39m \u001b[39m'\u001b[39m\u001b[39m./oldPath/\u001b[39m\u001b[39m'\u001b[39m\n\u001b[0;32m      <a href='vscode-notebook-cell:/c%3A/Users/fabri/OneDrive/%C3%81rea%20de%20Trabalho/AutoPhotoRoom/main.ipynb#W6sZmlsZQ%3D%3D?line=3'>4</a>\u001b[0m destPath \u001b[39m=\u001b[39m \u001b[39m'\u001b[39m\u001b[39m./newPath/\u001b[39m\u001b[39m'\u001b[39m\n\u001b[1;32m----> <a href='vscode-notebook-cell:/c%3A/Users/fabri/OneDrive/%C3%81rea%20de%20Trabalho/AutoPhotoRoom/main.ipynb#W6sZmlsZQ%3D%3D?line=4'>5</a>\u001b[0m files \u001b[39m=\u001b[39m os\u001b[39m.\u001b[39;49mlistdir(srcPath)\n\u001b[0;32m      <a href='vscode-notebook-cell:/c%3A/Users/fabri/OneDrive/%C3%81rea%20de%20Trabalho/AutoPhotoRoom/main.ipynb#W6sZmlsZQ%3D%3D?line=6'>7</a>\u001b[0m \u001b[39mfor\u001b[39;00m file \u001b[39min\u001b[39;00m files[:\u001b[39mlen\u001b[39m(files)\u001b[39m/\u001b[39m\u001b[39m/\u001b[39m\u001b[39m2\u001b[39m]:\n\u001b[0;32m      <a href='vscode-notebook-cell:/c%3A/Users/fabri/OneDrive/%C3%81rea%20de%20Trabalho/AutoPhotoRoom/main.ipynb#W6sZmlsZQ%3D%3D?line=7'>8</a>\u001b[0m     shutil\u001b[39m.\u001b[39mmove(srcPath \u001b[39m+\u001b[39m file, destPath \u001b[39m+\u001b[39m file)\n",
      "\u001b[1;31mFileNotFoundError\u001b[0m: [WinError 3] O sistema não pode encontrar o caminho especificado: './oldPath/'"
     ]
    }
   ],
   "source": [
    "import os, shutil\n",
    "\n",
    "srcPath = './oldPath/'\n",
    "destPath = './newPath/'\n",
    "files = os.listdir(srcPath)\n",
    "\n",
    "for file in files[:len(files)//2]:\n",
    "    shutil.move(srcPath + file, destPath + file)"
   ]
  },
  {
   "cell_type": "code",
   "execution_count": 15,
   "id": "4a4ece07",
   "metadata": {},
   "outputs": [
    {
     "name": "stdout",
     "output_type": "stream",
     "text": [
      "Point(x=-954, y=240)\n"
     ]
    }
   ],
   "source": [
    "import pyautogui as pag\n",
    "import time\n",
    "\n",
    "time.sleep(5)\n",
    "print(pag.position())"
   ]
  },
  {
   "cell_type": "code",
   "execution_count": 17,
   "id": "13468d58",
   "metadata": {},
   "outputs": [],
   "source": [
    "pag.moveTo(-954,240)\n",
    "pag.click()"
   ]
  },
  {
   "cell_type": "code",
   "execution_count": null,
   "id": "6bb45c12",
   "metadata": {},
   "outputs": [],
   "source": []
  },
  {
   "cell_type": "code",
   "execution_count": 7,
   "id": "c61a566b",
   "metadata": {},
   "outputs": [
    {
     "name": "stderr",
     "output_type": "stream",
     "text": [
      "C:\\Users\\fabri\\AppData\\Local\\Temp\\ipykernel_16236\\1438147200.py:14: DeprecationWarning: firefox_profile has been deprecated, please use an Options object\n",
      "  fp = webdriver.FirefoxProfile('C:\\\\Users\\\\fabri\\\\AppData\\\\Roaming\\\\Mozilla\\\\Firefox\\\\Profiles\\\\1lq8wops.Selenium')\n",
      "C:\\Users\\fabri\\AppData\\Local\\Temp\\ipykernel_16236\\1438147200.py:18: DeprecationWarning: firefox_profile has been deprecated, please pass in an Options object\n",
      "  driver = webdriver.Firefox(firefox_profile=fp)\n"
     ]
    },
    {
     "ename": "Error",
     "evalue": "Destination path 'D:\\Data_set_Inits\\vermelho\\moved\\816.JPG' already exists",
     "output_type": "error",
     "traceback": [
      "\u001b[1;31m---------------------------------------------------------------------------\u001b[0m",
      "\u001b[1;31mError\u001b[0m                                     Traceback (most recent call last)",
      "Cell \u001b[1;32mIn [7], line 73\u001b[0m\n\u001b[0;32m     70\u001b[0m         count \u001b[39m=\u001b[39m \u001b[39mf\u001b[39m\u001b[39m\"\u001b[39m\u001b[39m{\u001b[39;00m\u001b[39mstr\u001b[39m(n)\u001b[39m}\u001b[39;00m\u001b[39m.JPG\u001b[39m\u001b[39m\"\u001b[39m\n\u001b[0;32m     72\u001b[0m \u001b[39mtry\u001b[39;00m:\n\u001b[1;32m---> 73\u001b[0m     driverA(n)\n\u001b[0;32m     74\u001b[0m \u001b[39mexcept\u001b[39;00m WD \u001b[39mas\u001b[39;00m err:\n\u001b[0;32m     76\u001b[0m     \u001b[39mprint\u001b[39m(\u001b[39m\"\u001b[39m\u001b[39mRestart\u001b[39m\u001b[39m\"\u001b[39m,safeContinue)\n",
      "Cell \u001b[1;32mIn [7], line 65\u001b[0m, in \u001b[0;36mdriverA\u001b[1;34m(n)\u001b[0m\n\u001b[0;32m     62\u001b[0m time\u001b[39m.\u001b[39msleep(\u001b[39m0.2\u001b[39m)\n\u001b[0;32m     64\u001b[0m \u001b[39mif\u001b[39;00m \u001b[39mstr\u001b[39m(count) \u001b[39m==\u001b[39m filename:\n\u001b[1;32m---> 65\u001b[0m     m \u001b[39m=\u001b[39m shutil\u001b[39m.\u001b[39;49mmove(folder \u001b[39m+\u001b[39;49m filename, dest \u001b[39m+\u001b[39;49m filename[\u001b[39m9\u001b[39;49m:])\n\u001b[0;32m     66\u001b[0m     \u001b[39mprint\u001b[39m(m)\n\u001b[0;32m     67\u001b[0m n \u001b[39m=\u001b[39m n\u001b[39m+\u001b[39m\u001b[39m1\u001b[39m\n",
      "File \u001b[1;32mc:\\Users\\fabri\\AppData\\Local\\Programs\\Python\\Python39\\lib\\shutil.py:821\u001b[0m, in \u001b[0;36mmove\u001b[1;34m(src, dst, copy_function)\u001b[0m\n\u001b[0;32m    818\u001b[0m     real_dst \u001b[39m=\u001b[39m os\u001b[39m.\u001b[39mpath\u001b[39m.\u001b[39mjoin(dst, _basename(src))\n\u001b[0;32m    820\u001b[0m     \u001b[39mif\u001b[39;00m os\u001b[39m.\u001b[39mpath\u001b[39m.\u001b[39mexists(real_dst):\n\u001b[1;32m--> 821\u001b[0m         \u001b[39mraise\u001b[39;00m Error(\u001b[39m\"\u001b[39m\u001b[39mDestination path \u001b[39m\u001b[39m'\u001b[39m\u001b[39m%s\u001b[39;00m\u001b[39m'\u001b[39m\u001b[39m already exists\u001b[39m\u001b[39m\"\u001b[39m \u001b[39m%\u001b[39m real_dst)\n\u001b[0;32m    822\u001b[0m \u001b[39mtry\u001b[39;00m:\n\u001b[0;32m    823\u001b[0m     os\u001b[39m.\u001b[39mrename(src, real_dst)\n",
      "\u001b[1;31mError\u001b[0m: Destination path 'D:\\Data_set_Inits\\vermelho\\moved\\816.JPG' already exists"
     ]
    }
   ],
   "source": [
    "from selenium import webdriver\n",
    "from selenium.webdriver.common.keys import Keys\n",
    "from selenium.webdriver.support.ui import WebDriverWait\n",
    "from selenium.webdriver.firefox.options import Options as FirefoxOptions\n",
    "from selenium.webdriver.common.by import By\n",
    "from selenium.webdriver.support import expected_conditions as EC\n",
    "from selenium.common.exceptions import TimeoutException as WD\n",
    "import time\n",
    "import pyautogui as pag\n",
    "import os\n",
    "import shutil\n",
    "import pathlib as pl\n",
    "\n",
    "fp = webdriver.FirefoxProfile('C:\\\\Users\\\\fabri\\\\AppData\\\\Roaming\\\\Mozilla\\\\Firefox\\\\Profiles\\\\1lq8wops.Selenium')\n",
    "options = FirefoxOptions()\n",
    "#options.add_argument(\"--headless\")\n",
    "#options=options,\n",
    "driver = webdriver.Firefox(firefox_profile=fp)\n",
    "#driver = webdriver.Firefox(executable_path = r\"C:\\Users\\fabri\\OneDrive\\Área de Trabalho\\Selenuim\\geckodriver.exe\")\n",
    "driver.get('https://www.photoroom.com/remover-fundo-de-imagem/')\n",
    "\n",
    "safeContinue = 0\n",
    "n = 816\n",
    "\n",
    "def driverA(n):\n",
    "    global stop\n",
    "    global safeContinue\n",
    "    folder = r\"D:\\Data_set_Inits\\vermelho\\Raw\" + os.sep\n",
    "    dest = r\"D:\\Data_set_Inits\\vermelho\\moved\" + os.sep\n",
    "    files = os.listdir(folder)\n",
    "\n",
    "    #980,301 monitor 2\n",
    "    #263,180 monitor 1\n",
    "    count = f\"{str(n)}.JPG\"\n",
    "\n",
    "    for file in files:\n",
    "        filename = pl.PurePath(file[:0]+count).name\n",
    "\n",
    "        upload = WebDriverWait(driver, 25).until(EC.visibility_of_element_located((By.CSS_SELECTOR, 'button.inline-flex:nth-child(1)')))\n",
    "        upload.click()\n",
    "        time.sleep(0.5)\n",
    "\n",
    "        pag.moveTo(-954,240)\n",
    "        pag.click()\n",
    "        pag.press('enter')\n",
    "        time.sleep(0.2)\n",
    "\n",
    "\n",
    "        # blackButton = WebDriverWait(driver, 30).until(EC.visibility_of_element_located((By.CSS_SELECTOR, 'button.h-9:nth-child(3)')))\n",
    "        # time.sleep(0.2)\n",
    "        # blackButton.click()\n",
    "        # time.sleep(0.2)\n",
    "\n",
    "        download = WebDriverWait(driver, 25).until(EC.visibility_of_element_located((By.CSS_SELECTOR, 'button.bg-primary:nth-child(2)')))\n",
    "        time.sleep(0.2)\n",
    "        download.click() #download\n",
    "        time.sleep(0.2)\n",
    "        pag.click()\n",
    "        time.sleep(0.2)\n",
    "        clear = WebDriverWait(driver, 25).until(EC.visibility_of_element_located((By.CSS_SELECTOR, '.bg-gray-10')))\n",
    "        clear.click()\n",
    "        time.sleep(0.2)\n",
    "\n",
    "        if str(count) == filename:\n",
    "            m = shutil.move(folder + filename, dest + filename[9:])\n",
    "            print(m)\n",
    "        n = n+1\n",
    "\n",
    "        safeContinue = n\n",
    "        count = f\"{str(n)}.JPG\"\n",
    "\n",
    "try:\n",
    "    driverA(n)\n",
    "except WD as err:\n",
    "\n",
    "    print(\"Restart\",safeContinue)\n",
    "    time.sleep(1)\n",
    "    pag.press('f5')\n",
    "    n = safeContinue\n",
    "    time.sleep(1)\n",
    "    driverA(n)\n",
    "    \n"
   ]
  }
 ],
 "metadata": {
  "kernelspec": {
   "display_name": "Python 3.9.12 64-bit",
   "language": "python",
   "name": "python3"
  },
  "language_info": {
   "codemirror_mode": {
    "name": "ipython",
    "version": 3
   },
   "file_extension": ".py",
   "mimetype": "text/x-python",
   "name": "python",
   "nbconvert_exporter": "python",
   "pygments_lexer": "ipython3",
   "version": "3.9.12"
  },
  "vscode": {
   "interpreter": {
    "hash": "469241b12331ad6d43d5ebfeed273d6a436be7d60dc5a921127bd16693951b02"
   }
  }
 },
 "nbformat": 4,
 "nbformat_minor": 5
}
